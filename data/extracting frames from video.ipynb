{
 "cells": [
  {
   "cell_type": "code",
   "execution_count": 18,
   "id": "28bd3815",
   "metadata": {},
   "outputs": [
    {
     "name": "stdout",
     "output_type": "stream",
     "text": [
      "cross_squat_1\n",
      "102\n",
      "cross_squat_1\n",
      "0\n",
      "standing_left_6\n",
      "111\n",
      "standing_right_7\n",
      "84\n",
      "jumping_jack_3\n",
      "0\n",
      "standing_both_hand_5\n",
      "116\n",
      "standing_left_6\n",
      "0\n",
      "standing_right_7\n",
      "0\n",
      "front_running_2\n",
      "47\n",
      "side_running_4\n",
      "0\n",
      "jumping_jack_3\n",
      "49\n",
      "standing_both_hand_5\n",
      "0\n",
      "side_running_4\n",
      "42\n",
      "front_running_2\n",
      "0\n"
     ]
    }
   ],
   "source": [
    "import os\n",
    "import cv2\n",
    "current_path=os.getcwd()\n",
    "template_path=current_path+\"/template/\"\n",
    "\n",
    "for file in os.scandir(template_path):\n",
    "    strs=file.name.split(\".\")\n",
    "    print(strs[0])\n",
    "    current_frame_path=template_path+strs[0]\n",
    "    os.makedirs(current_frame_path, exist_ok=True)\n",
    "    \n",
    "    \n",
    "    video = cv2.VideoCapture(file.path)\n",
    "    success,image=video.read()\n",
    "    count=0\n",
    "    \n",
    "    while success:\n",
    "        image_path=current_frame_path+\"/frame\"+str(count)+\".jpg\"\n",
    "        if(count%2==0):\n",
    "            cv2.imwrite(image_path, image) \n",
    "        success,image = video.read()\n",
    "        count += 1\n",
    "    print(count)"
   ]
  },
  {
   "cell_type": "code",
   "execution_count": null,
   "id": "d4a5e288",
   "metadata": {},
   "outputs": [],
   "source": []
  }
 ],
 "metadata": {
  "kernelspec": {
   "display_name": "Python 3 (ipykernel)",
   "language": "python",
   "name": "python3"
  },
  "language_info": {
   "codemirror_mode": {
    "name": "ipython",
    "version": 3
   },
   "file_extension": ".py",
   "mimetype": "text/x-python",
   "name": "python",
   "nbconvert_exporter": "python",
   "pygments_lexer": "ipython3",
   "version": "3.10.6"
  }
 },
 "nbformat": 4,
 "nbformat_minor": 5
}
